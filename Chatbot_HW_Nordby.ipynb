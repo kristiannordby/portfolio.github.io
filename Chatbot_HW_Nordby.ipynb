{
 "cells": [
  {
   "cell_type": "markdown",
   "metadata": {},
   "source": [
    "# Chatbot Homework"
   ]
  },
  {
   "cell_type": "code",
   "execution_count": 2,
   "metadata": {},
   "outputs": [],
   "source": [
    "import re\n",
    "from sklearn.feature_extraction.text import TfidfVectorizer\n",
    "from sklearn.metrics.pairwise import cosine_similarity"
   ]
  },
  {
   "cell_type": "code",
   "execution_count": 13,
   "metadata": {},
   "outputs": [],
   "source": [
    "pairs = [\n",
    "    (r'hi | hello', ['Hello!','Hi there!']),\n",
    "    (r'my name is (.*)', ['Hello %1, nice to meet you!']),\n",
    "    (r'how are you?', ['I am doing well, thank you!']),\n",
    "    (r'what is your name?', ['I am a chatbot, designed to help give you the West Point Tour.']),\n",
    "    (r'where are you from?', ['West Point.']),\n",
    "    (r'bye', ['Goodbye!']),\n",
    "    (r'Who is the superintendent?', ['The Superintendent is Lieutenant General Steve Gilland.','General Gilland']),\n",
    "    (r'Who is the Commandant?', ['The Commadant of Cadets is Brigadier General RJ Garcia.', 'General RJ Garcia']),\n",
    "    (r'Who is the Dean?', ['The Dean of the academic board is Brigadier General Shane Reeves.','General Reeves']),\n",
    "    (r'Where is Washington Hall?', ['Washington hall is above the mess hall, next to Ike and Macarthur-long barracks.']),\n",
    "    (r'Where is Mahan Hall?', ['Mahan Hall is across from building 606, at grant turnaround.']),\n",
    "    (r'Where is Grant Hall?', ['Grant Hall is behind Grant Barracks.']),\n",
    "    (r'Where is Bartlett Hall?', ['Bartlett hall is between Pershing Barracks and Thayer Hall.']),\n",
    "    (r'When was West Point Founded?', ['West Point was founded in 1802.']),\n",
    "    (r'Who founded West Point?', ['West Point was founded by President Thomas Jefferson in 1802.']),\n",
    "    (r'Who was Dennis Michie?', ['Dennis Michie was the first captain of the West Point football team. 1LT Michie was KIA in Cuba in 1898.']),\n",
    "    (r'What do you do after you graduate?',['All West Point graduates must serve five years active duty in the operational army']),\n",
    "    (r'How many majors are there at West Point',['There are 21 different majors at West Point']),\n",
    "    (r'Where is West Point Located',['West Point is about 40 miles North of New York City']),\n",
    "    (r'How large is the student body?',['There are 4400 Cadets at West Point, but 1000 graduate each year.']),\n",
    "    (r'What rank will West point officers have upon graduation?',['West Pointers will commission with the rank of 2LT in the Army.']),\n",
    "    (r'What is the graduation rate at West Point?',['The graduation rate at West Point is 83 percent. About 1200 people enter each year, but a class will only graduate 1000.']),\n",
    "    (r'What is the acceptance rate at West Point?', ['The Acceptance rate at West Point is roughly 12 percent.'])\n",
    "]"
   ]
  },
  {
   "cell_type": "code",
   "execution_count": 5,
   "metadata": {},
   "outputs": [],
   "source": [
    "def chatbot_response(user_input):\n",
    "    for i in pairs:\n",
    "        pattern = ''.join(i[0])\n",
    "        responses=i[1]\n",
    "        compare_list = [pattern,user_input.lower()]\n",
    "\n",
    "        tfidf_vectorizer = TfidfVectorizer()\n",
    "        tfidf_matrix=tfidf_vectorizer.fit_transform(compare_list)\n",
    "        cos_sim=cosine_similarity(tfidf_matrix)[0,1]\n",
    "\n",
    "        if cos_sim>=0.7:\n",
    "            match=True\n",
    "        else:\n",
    "            match=False\n",
    "        if match:\n",
    "            response=responses[0]\n",
    "            if '%1' in response:\n",
    "                response = response.replace('%1',match.group(1))\n",
    "            return response\n",
    "        else:\n",
    "            continue"
   ]
  },
  {
   "cell_type": "code",
   "execution_count": 9,
   "metadata": {},
   "outputs": [],
   "source": [
    "def chatbot_response(user_input):\n",
    "    cos_sims = []\n",
    "    for i in pairs:\n",
    "        pattern = ''.join(i[0])\n",
    "        responses=i[1]\n",
    "        compare_list = [pattern,user_input.lower()]\n",
    "\n",
    "        tfidf_vectorizer = TfidfVectorizer()\n",
    "        tfidf_matrix=tfidf_vectorizer.fit_transform(compare_list)\n",
    "        cos_sim=cosine_similarity(tfidf_matrix)[0,1]\n",
    "\n",
    "        cos_sims.append(cos_sim)\n",
    "    response = pairs[cos_sims.index(max(cos_sims))][1][0]\n",
    "    if '%1' in response:\n",
    "        response = response.replace('%1',match.group(1))\n",
    "    return response"
   ]
  },
  {
   "cell_type": "code",
   "execution_count": 10,
   "metadata": {},
   "outputs": [
    {
     "data": {
      "text/plain": [
       "'Dennis Michie was the first captain of the West Point football team. 1LT Michie was KIA in Cuba in 1898.'"
      ]
     },
     "execution_count": 10,
     "metadata": {},
     "output_type": "execute_result"
    }
   ],
   "source": [
    "chatbot_response(\"who was dennis michie?\")"
   ]
  },
  {
   "cell_type": "code",
   "execution_count": 15,
   "metadata": {},
   "outputs": [
    {
     "name": "stdout",
     "output_type": "stream",
     "text": [
      "Chatbot: Hello! I am your west point your guide. Here are some questions you can ask me: \n",
      " ['Who is the superintendent?', 'Who is the Commandant?', 'Who is the Dean?', 'Where is Washington Hall?']\n",
      "Type 'bye' to exit\n",
      "You: who is the superintendent\n",
      "Chatbot: The Superintendent is Lieutenant General Steve Gilland.\n",
      "You: where is bartlett hall\n",
      "Chatbot: Bartlett hall is between Pershing Barracks and Thayer Hall.\n",
      "You: how large is the student body\n",
      "Chatbot: There are 4400 Cadets at West Point, but 1000 graduate each year.\n",
      "You: what rank will a cadet have when he graduates?\n",
      "Chatbot: West Pointers will commission with the rank of 2LT in the Army.\n",
      "You: bye\n",
      "Chatbot: Goodbye!\n"
     ]
    }
   ],
   "source": [
    "print(f\"Chatbot: Hello! I am your west point your guide. Here are some questions you can ask me: \\n {[i[0] for i in pairs[6:10]]}\\nType 'bye' to exit\")\n",
    "while True:\n",
    "    user_input = input('You: ')\n",
    "    if user_input.lower()=='bye':\n",
    "        print(f'You: {user_input}')\n",
    "        print('Chatbot: Goodbye!')\n",
    "        break\n",
    "    response=chatbot_response(user_input)\n",
    "    print(f\"You: {user_input}\")\n",
    "    print(f\"Chatbot: {response}\")"
   ]
  }
 ],
 "metadata": {
  "kernelspec": {
   "display_name": "Python 3 (ipykernel)",
   "language": "python",
   "name": "python3"
  },
  "language_info": {
   "codemirror_mode": {
    "name": "ipython",
    "version": 3
   },
   "file_extension": ".py",
   "mimetype": "text/x-python",
   "name": "python",
   "nbconvert_exporter": "python",
   "pygments_lexer": "ipython3",
   "version": "3.12.4"
  }
 },
 "nbformat": 4,
 "nbformat_minor": 4
}
