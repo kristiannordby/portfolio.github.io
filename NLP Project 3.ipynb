{
 "cells": [
  {
   "cell_type": "code",
   "execution_count": 1,
   "metadata": {
    "colab": {
     "base_uri": "https://localhost:8080/"
    },
    "id": "cEEPtX8RMGIa",
    "outputId": "5b85e4e6-6b83-4e3b-d390-22016756ac9c"
   },
   "outputs": [
    {
     "name": "stderr",
     "output_type": "stream",
     "text": [
      "[nltk_data] Downloading package wordnet to\n",
      "[nltk_data]     C:\\Users\\kristian.nordby\\AppData\\Roaming\\nltk_data...\n",
      "[nltk_data]   Package wordnet is already up-to-date!\n",
      "[nltk_data] Downloading package omw-1.4 to\n",
      "[nltk_data]     C:\\Users\\kristian.nordby\\AppData\\Roaming\\nltk_data...\n",
      "[nltk_data]   Package omw-1.4 is already up-to-date!\n"
     ]
    }
   ],
   "source": [
    "import nltk\n",
    "import spacy\n",
    "\n",
    "# Download WordNet data (if not already downloaded)\n",
    "nltk.download('wordnet')\n",
    "nltk.download('omw-1.4')\n",
    "from nltk.stem.wordnet import WordNetLemmatizer\n",
    "nlp = spacy.load(\"en_core_web_sm\", disable = ['parser', 'ner'])\n",
    "\n",
    "\n",
    "import numpy as np\n",
    "import pandas as pd\n",
    "import tensorflow as tf\n",
    "import matplotlib.pyplot as plt\n",
    "\n",
    "from tensorflow.keras.preprocessing.text import Tokenizer\n",
    "from tensorflow.keras.preprocessing.sequence import pad_sequences\n",
    "from tensorflow.keras.layers import Dense, Input, Bidirectional\n",
    "from tensorflow.keras.layers import LSTM, GRU, SimpleRNN, Embedding\n",
    "from tensorflow.keras.models import Model\n",
    "from tensorflow.keras.losses import SparseCategoricalCrossentropy\n",
    "from sklearn.model_selection import train_test_split\n",
    "from sklearn.feature_extraction.text import TfidfVectorizer"
   ]
  },
  {
   "cell_type": "code",
   "execution_count": 2,
   "metadata": {
    "colab": {
     "base_uri": "https://localhost:8080/",
     "height": 501
    },
    "id": "nCOMq_ZROD_R",
    "outputId": "86b6535a-b763-4176-e26a-fc4add44982d"
   },
   "outputs": [
    {
     "data": {
      "text/html": [
       "<div>\n",
       "<style scoped>\n",
       "    .dataframe tbody tr th:only-of-type {\n",
       "        vertical-align: middle;\n",
       "    }\n",
       "\n",
       "    .dataframe tbody tr th {\n",
       "        vertical-align: top;\n",
       "    }\n",
       "\n",
       "    .dataframe thead th {\n",
       "        text-align: right;\n",
       "    }\n",
       "</style>\n",
       "<table border=\"1\" class=\"dataframe\">\n",
       "  <thead>\n",
       "    <tr style=\"text-align: right;\">\n",
       "      <th></th>\n",
       "      <th>Id</th>\n",
       "      <th>ProductId</th>\n",
       "      <th>UserId</th>\n",
       "      <th>ProfileName</th>\n",
       "      <th>HelpfulnessNumerator</th>\n",
       "      <th>HelpfulnessDenominator</th>\n",
       "      <th>Score</th>\n",
       "      <th>Time</th>\n",
       "      <th>Summary</th>\n",
       "      <th>Text</th>\n",
       "    </tr>\n",
       "  </thead>\n",
       "  <tbody>\n",
       "    <tr>\n",
       "      <th>0</th>\n",
       "      <td>1</td>\n",
       "      <td>B001E4KFG0</td>\n",
       "      <td>A3SGXH7AUHU8GW</td>\n",
       "      <td>delmartian</td>\n",
       "      <td>1</td>\n",
       "      <td>1</td>\n",
       "      <td>5</td>\n",
       "      <td>1303862400</td>\n",
       "      <td>Good Quality Dog Food</td>\n",
       "      <td>bought vitality canned dog food product found ...</td>\n",
       "    </tr>\n",
       "    <tr>\n",
       "      <th>1</th>\n",
       "      <td>2</td>\n",
       "      <td>B00813GRG4</td>\n",
       "      <td>A1D87F6ZCVE5NK</td>\n",
       "      <td>dll pa</td>\n",
       "      <td>0</td>\n",
       "      <td>0</td>\n",
       "      <td>1</td>\n",
       "      <td>1346976000</td>\n",
       "      <td>Not as Advertised</td>\n",
       "      <td>product arrived labeled jumbo salted peanuts.....</td>\n",
       "    </tr>\n",
       "    <tr>\n",
       "      <th>2</th>\n",
       "      <td>3</td>\n",
       "      <td>B000LQOCH0</td>\n",
       "      <td>ABXLMWJIXXAIN</td>\n",
       "      <td>Natalia Corres \"Natalia Corres\"</td>\n",
       "      <td>1</td>\n",
       "      <td>1</td>\n",
       "      <td>4</td>\n",
       "      <td>1219017600</td>\n",
       "      <td>\"Delight\" says it all</td>\n",
       "      <td>confection centuries. light, pillowy citrus ge...</td>\n",
       "    </tr>\n",
       "    <tr>\n",
       "      <th>3</th>\n",
       "      <td>4</td>\n",
       "      <td>B000UA0QIQ</td>\n",
       "      <td>A395BORC6FGVXV</td>\n",
       "      <td>Karl</td>\n",
       "      <td>3</td>\n",
       "      <td>3</td>\n",
       "      <td>2</td>\n",
       "      <td>1307923200</td>\n",
       "      <td>Cough Medicine</td>\n",
       "      <td>looking secret ingredient robitussin believe f...</td>\n",
       "    </tr>\n",
       "    <tr>\n",
       "      <th>4</th>\n",
       "      <td>5</td>\n",
       "      <td>B006K2ZZ7K</td>\n",
       "      <td>A1UQRSCLF8GW1T</td>\n",
       "      <td>Michael D. Bigham \"M. Wassir\"</td>\n",
       "      <td>0</td>\n",
       "      <td>0</td>\n",
       "      <td>5</td>\n",
       "      <td>1350777600</td>\n",
       "      <td>Great taffy</td>\n",
       "      <td>great taffy great price. wide assortment yummy...</td>\n",
       "    </tr>\n",
       "  </tbody>\n",
       "</table>\n",
       "</div>"
      ],
      "text/plain": [
       "   Id   ProductId          UserId                      ProfileName  \\\n",
       "0   1  B001E4KFG0  A3SGXH7AUHU8GW                       delmartian   \n",
       "1   2  B00813GRG4  A1D87F6ZCVE5NK                           dll pa   \n",
       "2   3  B000LQOCH0   ABXLMWJIXXAIN  Natalia Corres \"Natalia Corres\"   \n",
       "3   4  B000UA0QIQ  A395BORC6FGVXV                             Karl   \n",
       "4   5  B006K2ZZ7K  A1UQRSCLF8GW1T    Michael D. Bigham \"M. Wassir\"   \n",
       "\n",
       "   HelpfulnessNumerator  HelpfulnessDenominator  Score        Time  \\\n",
       "0                     1                       1      5  1303862400   \n",
       "1                     0                       0      1  1346976000   \n",
       "2                     1                       1      4  1219017600   \n",
       "3                     3                       3      2  1307923200   \n",
       "4                     0                       0      5  1350777600   \n",
       "\n",
       "                 Summary                                               Text  \n",
       "0  Good Quality Dog Food  bought vitality canned dog food product found ...  \n",
       "1      Not as Advertised  product arrived labeled jumbo salted peanuts.....  \n",
       "2  \"Delight\" says it all  confection centuries. light, pillowy citrus ge...  \n",
       "3         Cough Medicine  looking secret ingredient robitussin believe f...  \n",
       "4            Great taffy  great taffy great price. wide assortment yummy...  "
      ]
     },
     "execution_count": 2,
     "metadata": {},
     "output_type": "execute_result"
    }
   ],
   "source": [
    "# Preprocessing function\n",
    "def tokenize_and_lemmatize(df):\n",
    "    \"\"\"\n",
    "    Processes a DataFrame by lemmatizing and tokenizing the 'Text' column\n",
    "    and returns the DataFrame with an updated column containing the processed text.\n",
    "    :param df: DataFrame with a 'Text' column.\n",
    "    :return: DataFrame with a modified 'Text' column containing lemmatized and tokenized text.\n",
    "    \"\"\"\n",
    "    # Initialize the WordNetLemmatizer\n",
    "    lemmatizer = WordNetLemmatizer()\n",
    "\n",
    "    stop_words = nlp.Defaults.stop_words  # Default stop words from Spacy\n",
    "\n",
    "    # Function to preprocess, tokenize, and lemmatize text\n",
    "    def preprocess(text):\n",
    "        tokens = text.split()\n",
    "        # Lemmatize tokens and filter out stopwords\n",
    "        processed_tokens = [lemmatizer.lemmatize(word.lower()) for word in tokens if word.lower() not in stop_words]\n",
    "        # Join tokens back into a single string\n",
    "        return ' '.join(processed_tokens)\n",
    "\n",
    "    # Apply the preprocessing and tokenization function to the 'Text' column\n",
    "    df['Text'] = df['Text'].fillna('').apply(preprocess)\n",
    "\n",
    "    return df\n",
    "# from google.colab import drive\n",
    "# drive.mount('/content/drive')\n",
    "df = pd.read_csv(r\"C:\\Users\\kristian.nordby\\OneDrive - West Point\\Desktop\\AY 25-1\\NLP\\Project 3\\Reviews.csv\")\n",
    "df = tokenize_and_lemmatize(df)\n",
    "df.head()"
   ]
  },
  {
   "cell_type": "code",
   "execution_count": 18,
   "metadata": {},
   "outputs": [
    {
     "name": "stdout",
     "output_type": "stream",
     "text": [
      "Score\n",
      "2    29769\n",
      "1    29769\n",
      "3    29769\n",
      "5    29769\n",
      "4    29769\n",
      "Name: count, dtype: int64\n"
     ]
    },
    {
     "name": "stderr",
     "output_type": "stream",
     "text": [
      "C:\\Users\\kristian.nordby\\AppData\\Local\\Temp\\ipykernel_11436\\855200190.py:15: DeprecationWarning: DataFrameGroupBy.apply operated on the grouping columns. This behavior is deprecated, and in a future version of pandas the grouping columns will be excluded from the operation. Either pass `include_groups=False` to exclude the groupings or explicitly select the grouping columns after groupby to silence this warning.\n",
      "  .apply(lambda x: x.sample(min_count, random_state=42))\n"
     ]
    },
    {
     "data": {
      "text/plain": [
       "True"
      ]
     },
     "execution_count": 18,
     "metadata": {},
     "output_type": "execute_result"
    }
   ],
   "source": [
    "import pandas as pd\n",
    "\n",
    "# Example DataFrame\n",
    "# df = pd.DataFrame({'score': [5, 1, 2, 5, 3, 5, 4, 5, 1, 2, 3]})\n",
    "\n",
    "# Count the occurrences of each score\n",
    "score_counts = df['Score'].value_counts()\n",
    "\n",
    "# Determine the minimum count (least common score)\n",
    "min_count = score_counts.min()\n",
    "\n",
    "# Sample equal number of rows for each score\n",
    "balanced_df = (\n",
    "    df.groupby('Score', group_keys=False)\n",
    "    .apply(lambda x: x.sample(min_count, random_state=42))\n",
    ")\n",
    "\n",
    "# Shuffle the rows to avoid any order bias (optional)\n",
    "balanced_df = balanced_df.sample(frac=1, random_state=42).reset_index(drop=True)\n",
    "\n",
    "print(balanced_df.Score.value_counts())\n",
    "targets_num = balanced_df['Score']\n",
    "inputs_text = balanced_df['Text']\n",
    "len(targets_num) == len(inputs_text)"
   ]
  },
  {
   "cell_type": "code",
   "execution_count": 19,
   "metadata": {
    "id": "hTe8TE8dXoEV"
   },
   "outputs": [],
   "source": [
    "# Create a TF-IDF vectorizer\n",
    "vectorizer = TfidfVectorizer(stop_words='english', max_df=.80, min_df=.05)\n",
    "\n",
    "# Fit and transform the input text to create the TF-IDF matrix\n",
    "tfidf_matrix = vectorizer.fit_transform(inputs_text)"
   ]
  },
  {
   "cell_type": "code",
   "execution_count": 20,
   "metadata": {
    "colab": {
     "base_uri": "https://localhost:8080/"
    },
    "id": "iF8eK067D9Ky",
    "outputId": "be73eb07-cc0f-4a68-d316-49cdc2bd4e8f"
   },
   "outputs": [
    {
     "name": "stdout",
     "output_type": "stream",
     "text": [
      "Shape of input vectors: (148845, 82)\n"
     ]
    }
   ],
   "source": [
    "# Convert the reshaped array to a list (if needed)\n",
    "inputs = tfidf_matrix\n",
    "\n",
    "# Print the shape of the resulting vectors to confirm\n",
    "print(f\"Shape of input vectors: {inputs.shape}\")"
   ]
  },
  {
   "cell_type": "code",
   "execution_count": 21,
   "metadata": {
    "id": "AqPd9IzyL1bj"
   },
   "outputs": [],
   "source": [
    "from sklearn.preprocessing import OneHotEncoder\n",
    "targets = np.array(targets_num).reshape(-1, 1)\n",
    "# Initialize the OneHotEncoder\n",
    "encoder = OneHotEncoder(sparse_output=False)\n",
    "\n",
    "# Fit and transform the data\n",
    "targets = encoder.fit_transform(targets)"
   ]
  },
  {
   "cell_type": "code",
   "execution_count": 22,
   "metadata": {
    "colab": {
     "base_uri": "https://localhost:8080/"
    },
    "id": "RPqnW34xMO0f",
    "outputId": "37c6bedb-a5da-4274-b865-2e3bf96179bd"
   },
   "outputs": [
    {
     "name": "stdout",
     "output_type": "stream",
     "text": [
      "[1. 0. 0. 0. 0.]\n"
     ]
    }
   ],
   "source": [
    "print(targets[1])"
   ]
  },
  {
   "cell_type": "code",
   "execution_count": 23,
   "metadata": {
    "id": "RrhCyd6aMJnT"
   },
   "outputs": [],
   "source": [
    "x_train, x_test, y_train, y_test = train_test_split(inputs, targets, test_size=.3)"
   ]
  },
  {
   "cell_type": "code",
   "execution_count": 27,
   "metadata": {
    "colab": {
     "base_uri": "https://localhost:8080/"
    },
    "id": "B6qV_QEtN5XT",
    "outputId": "d08bafd7-63c1-426e-bac1-bcdd5ab0fde2"
   },
   "outputs": [],
   "source": [
    "model = tf.keras.Sequential([\n",
    "    tf.keras.layers.Input(shape=(82, 1)),  # Update input shape to (74, 1)\n",
    "    tf.keras.layers.Conv1D(filters=16, kernel_size=3, activation='relu'),\n",
    "    tf.keras.layers.MaxPooling1D(pool_size=2),\n",
    "    tf.keras.layers.Conv1D(filters=32, kernel_size=3, activation='relu'),\n",
    "    tf.keras.layers.MaxPooling1D(pool_size=2),\n",
    "    tf.keras.layers.Flatten(),\n",
    "    tf.keras.layers.Dense(64, activation='relu'),\n",
    "    tf.keras.layers.Dropout(0.5),\n",
    "    tf.keras.layers.Dense(32, activation='relu'),\n",
    "    tf.keras.layers.Dense(5, activation='softmax')\n",
    "])\n"
   ]
  },
  {
   "cell_type": "code",
   "execution_count": 28,
   "metadata": {
    "id": "rNjAeh26EnFi"
   },
   "outputs": [
    {
     "data": {
      "text/html": [
       "<pre style=\"white-space:pre;overflow-x:auto;line-height:normal;font-family:Menlo,'DejaVu Sans Mono',consolas,'Courier New',monospace\"><span style=\"font-weight: bold\">Model: \"sequential_1\"</span>\n",
       "</pre>\n"
      ],
      "text/plain": [
       "\u001b[1mModel: \"sequential_1\"\u001b[0m\n"
      ]
     },
     "metadata": {},
     "output_type": "display_data"
    },
    {
     "data": {
      "text/html": [
       "<pre style=\"white-space:pre;overflow-x:auto;line-height:normal;font-family:Menlo,'DejaVu Sans Mono',consolas,'Courier New',monospace\">┏━━━━━━━━━━━━━━━━━━━━━━━━━━━━━━━━━┳━━━━━━━━━━━━━━━━━━━━━━━━┳━━━━━━━━━━━━━━━┓\n",
       "┃<span style=\"font-weight: bold\"> Layer (type)                    </span>┃<span style=\"font-weight: bold\"> Output Shape           </span>┃<span style=\"font-weight: bold\">       Param # </span>┃\n",
       "┡━━━━━━━━━━━━━━━━━━━━━━━━━━━━━━━━━╇━━━━━━━━━━━━━━━━━━━━━━━━╇━━━━━━━━━━━━━━━┩\n",
       "│ conv1d_2 (<span style=\"color: #0087ff; text-decoration-color: #0087ff\">Conv1D</span>)               │ (<span style=\"color: #00d7ff; text-decoration-color: #00d7ff\">None</span>, <span style=\"color: #00af00; text-decoration-color: #00af00\">80</span>, <span style=\"color: #00af00; text-decoration-color: #00af00\">16</span>)         │            <span style=\"color: #00af00; text-decoration-color: #00af00\">64</span> │\n",
       "├─────────────────────────────────┼────────────────────────┼───────────────┤\n",
       "│ max_pooling1d_2 (<span style=\"color: #0087ff; text-decoration-color: #0087ff\">MaxPooling1D</span>)  │ (<span style=\"color: #00d7ff; text-decoration-color: #00d7ff\">None</span>, <span style=\"color: #00af00; text-decoration-color: #00af00\">40</span>, <span style=\"color: #00af00; text-decoration-color: #00af00\">16</span>)         │             <span style=\"color: #00af00; text-decoration-color: #00af00\">0</span> │\n",
       "├─────────────────────────────────┼────────────────────────┼───────────────┤\n",
       "│ conv1d_3 (<span style=\"color: #0087ff; text-decoration-color: #0087ff\">Conv1D</span>)               │ (<span style=\"color: #00d7ff; text-decoration-color: #00d7ff\">None</span>, <span style=\"color: #00af00; text-decoration-color: #00af00\">38</span>, <span style=\"color: #00af00; text-decoration-color: #00af00\">32</span>)         │         <span style=\"color: #00af00; text-decoration-color: #00af00\">1,568</span> │\n",
       "├─────────────────────────────────┼────────────────────────┼───────────────┤\n",
       "│ max_pooling1d_3 (<span style=\"color: #0087ff; text-decoration-color: #0087ff\">MaxPooling1D</span>)  │ (<span style=\"color: #00d7ff; text-decoration-color: #00d7ff\">None</span>, <span style=\"color: #00af00; text-decoration-color: #00af00\">19</span>, <span style=\"color: #00af00; text-decoration-color: #00af00\">32</span>)         │             <span style=\"color: #00af00; text-decoration-color: #00af00\">0</span> │\n",
       "├─────────────────────────────────┼────────────────────────┼───────────────┤\n",
       "│ flatten_1 (<span style=\"color: #0087ff; text-decoration-color: #0087ff\">Flatten</span>)             │ (<span style=\"color: #00d7ff; text-decoration-color: #00d7ff\">None</span>, <span style=\"color: #00af00; text-decoration-color: #00af00\">608</span>)            │             <span style=\"color: #00af00; text-decoration-color: #00af00\">0</span> │\n",
       "├─────────────────────────────────┼────────────────────────┼───────────────┤\n",
       "│ dense_3 (<span style=\"color: #0087ff; text-decoration-color: #0087ff\">Dense</span>)                 │ (<span style=\"color: #00d7ff; text-decoration-color: #00d7ff\">None</span>, <span style=\"color: #00af00; text-decoration-color: #00af00\">64</span>)             │        <span style=\"color: #00af00; text-decoration-color: #00af00\">38,976</span> │\n",
       "├─────────────────────────────────┼────────────────────────┼───────────────┤\n",
       "│ dropout_1 (<span style=\"color: #0087ff; text-decoration-color: #0087ff\">Dropout</span>)             │ (<span style=\"color: #00d7ff; text-decoration-color: #00d7ff\">None</span>, <span style=\"color: #00af00; text-decoration-color: #00af00\">64</span>)             │             <span style=\"color: #00af00; text-decoration-color: #00af00\">0</span> │\n",
       "├─────────────────────────────────┼────────────────────────┼───────────────┤\n",
       "│ dense_4 (<span style=\"color: #0087ff; text-decoration-color: #0087ff\">Dense</span>)                 │ (<span style=\"color: #00d7ff; text-decoration-color: #00d7ff\">None</span>, <span style=\"color: #00af00; text-decoration-color: #00af00\">32</span>)             │         <span style=\"color: #00af00; text-decoration-color: #00af00\">2,080</span> │\n",
       "├─────────────────────────────────┼────────────────────────┼───────────────┤\n",
       "│ dense_5 (<span style=\"color: #0087ff; text-decoration-color: #0087ff\">Dense</span>)                 │ (<span style=\"color: #00d7ff; text-decoration-color: #00d7ff\">None</span>, <span style=\"color: #00af00; text-decoration-color: #00af00\">5</span>)              │           <span style=\"color: #00af00; text-decoration-color: #00af00\">165</span> │\n",
       "└─────────────────────────────────┴────────────────────────┴───────────────┘\n",
       "</pre>\n"
      ],
      "text/plain": [
       "┏━━━━━━━━━━━━━━━━━━━━━━━━━━━━━━━━━┳━━━━━━━━━━━━━━━━━━━━━━━━┳━━━━━━━━━━━━━━━┓\n",
       "┃\u001b[1m \u001b[0m\u001b[1mLayer (type)                   \u001b[0m\u001b[1m \u001b[0m┃\u001b[1m \u001b[0m\u001b[1mOutput Shape          \u001b[0m\u001b[1m \u001b[0m┃\u001b[1m \u001b[0m\u001b[1m      Param #\u001b[0m\u001b[1m \u001b[0m┃\n",
       "┡━━━━━━━━━━━━━━━━━━━━━━━━━━━━━━━━━╇━━━━━━━━━━━━━━━━━━━━━━━━╇━━━━━━━━━━━━━━━┩\n",
       "│ conv1d_2 (\u001b[38;5;33mConv1D\u001b[0m)               │ (\u001b[38;5;45mNone\u001b[0m, \u001b[38;5;34m80\u001b[0m, \u001b[38;5;34m16\u001b[0m)         │            \u001b[38;5;34m64\u001b[0m │\n",
       "├─────────────────────────────────┼────────────────────────┼───────────────┤\n",
       "│ max_pooling1d_2 (\u001b[38;5;33mMaxPooling1D\u001b[0m)  │ (\u001b[38;5;45mNone\u001b[0m, \u001b[38;5;34m40\u001b[0m, \u001b[38;5;34m16\u001b[0m)         │             \u001b[38;5;34m0\u001b[0m │\n",
       "├─────────────────────────────────┼────────────────────────┼───────────────┤\n",
       "│ conv1d_3 (\u001b[38;5;33mConv1D\u001b[0m)               │ (\u001b[38;5;45mNone\u001b[0m, \u001b[38;5;34m38\u001b[0m, \u001b[38;5;34m32\u001b[0m)         │         \u001b[38;5;34m1,568\u001b[0m │\n",
       "├─────────────────────────────────┼────────────────────────┼───────────────┤\n",
       "│ max_pooling1d_3 (\u001b[38;5;33mMaxPooling1D\u001b[0m)  │ (\u001b[38;5;45mNone\u001b[0m, \u001b[38;5;34m19\u001b[0m, \u001b[38;5;34m32\u001b[0m)         │             \u001b[38;5;34m0\u001b[0m │\n",
       "├─────────────────────────────────┼────────────────────────┼───────────────┤\n",
       "│ flatten_1 (\u001b[38;5;33mFlatten\u001b[0m)             │ (\u001b[38;5;45mNone\u001b[0m, \u001b[38;5;34m608\u001b[0m)            │             \u001b[38;5;34m0\u001b[0m │\n",
       "├─────────────────────────────────┼────────────────────────┼───────────────┤\n",
       "│ dense_3 (\u001b[38;5;33mDense\u001b[0m)                 │ (\u001b[38;5;45mNone\u001b[0m, \u001b[38;5;34m64\u001b[0m)             │        \u001b[38;5;34m38,976\u001b[0m │\n",
       "├─────────────────────────────────┼────────────────────────┼───────────────┤\n",
       "│ dropout_1 (\u001b[38;5;33mDropout\u001b[0m)             │ (\u001b[38;5;45mNone\u001b[0m, \u001b[38;5;34m64\u001b[0m)             │             \u001b[38;5;34m0\u001b[0m │\n",
       "├─────────────────────────────────┼────────────────────────┼───────────────┤\n",
       "│ dense_4 (\u001b[38;5;33mDense\u001b[0m)                 │ (\u001b[38;5;45mNone\u001b[0m, \u001b[38;5;34m32\u001b[0m)             │         \u001b[38;5;34m2,080\u001b[0m │\n",
       "├─────────────────────────────────┼────────────────────────┼───────────────┤\n",
       "│ dense_5 (\u001b[38;5;33mDense\u001b[0m)                 │ (\u001b[38;5;45mNone\u001b[0m, \u001b[38;5;34m5\u001b[0m)              │           \u001b[38;5;34m165\u001b[0m │\n",
       "└─────────────────────────────────┴────────────────────────┴───────────────┘\n"
      ]
     },
     "metadata": {},
     "output_type": "display_data"
    },
    {
     "data": {
      "text/html": [
       "<pre style=\"white-space:pre;overflow-x:auto;line-height:normal;font-family:Menlo,'DejaVu Sans Mono',consolas,'Courier New',monospace\"><span style=\"font-weight: bold\"> Total params: </span><span style=\"color: #00af00; text-decoration-color: #00af00\">42,853</span> (167.39 KB)\n",
       "</pre>\n"
      ],
      "text/plain": [
       "\u001b[1m Total params: \u001b[0m\u001b[38;5;34m42,853\u001b[0m (167.39 KB)\n"
      ]
     },
     "metadata": {},
     "output_type": "display_data"
    },
    {
     "data": {
      "text/html": [
       "<pre style=\"white-space:pre;overflow-x:auto;line-height:normal;font-family:Menlo,'DejaVu Sans Mono',consolas,'Courier New',monospace\"><span style=\"font-weight: bold\"> Trainable params: </span><span style=\"color: #00af00; text-decoration-color: #00af00\">42,853</span> (167.39 KB)\n",
       "</pre>\n"
      ],
      "text/plain": [
       "\u001b[1m Trainable params: \u001b[0m\u001b[38;5;34m42,853\u001b[0m (167.39 KB)\n"
      ]
     },
     "metadata": {},
     "output_type": "display_data"
    },
    {
     "data": {
      "text/html": [
       "<pre style=\"white-space:pre;overflow-x:auto;line-height:normal;font-family:Menlo,'DejaVu Sans Mono',consolas,'Courier New',monospace\"><span style=\"font-weight: bold\"> Non-trainable params: </span><span style=\"color: #00af00; text-decoration-color: #00af00\">0</span> (0.00 B)\n",
       "</pre>\n"
      ],
      "text/plain": [
       "\u001b[1m Non-trainable params: \u001b[0m\u001b[38;5;34m0\u001b[0m (0.00 B)\n"
      ]
     },
     "metadata": {},
     "output_type": "display_data"
    }
   ],
   "source": [
    "model.summary()"
   ]
  },
  {
   "cell_type": "code",
   "execution_count": 34,
   "metadata": {},
   "outputs": [
    {
     "name": "stdout",
     "output_type": "stream",
     "text": [
      "Epoch 1/100\n",
      "\u001b[1m3256/3256\u001b[0m \u001b[32m━━━━━━━━━━━━━━━━━━━━\u001b[0m\u001b[37m\u001b[0m \u001b[1m32s\u001b[0m 9ms/step - accuracy: 0.4167 - loss: 1.3587 - val_accuracy: 0.4012 - val_loss: 1.3989\n",
      "Epoch 2/100\n",
      "\u001b[1m3256/3256\u001b[0m \u001b[32m━━━━━━━━━━━━━━━━━━━━\u001b[0m\u001b[37m\u001b[0m \u001b[1m36s\u001b[0m 11ms/step - accuracy: 0.4201 - loss: 1.3575 - val_accuracy: 0.4053 - val_loss: 1.3945\n",
      "Epoch 3/100\n",
      "\u001b[1m3256/3256\u001b[0m \u001b[32m━━━━━━━━━━━━━━━━━━━━\u001b[0m\u001b[37m\u001b[0m \u001b[1m28s\u001b[0m 8ms/step - accuracy: 0.4167 - loss: 1.3574 - val_accuracy: 0.4035 - val_loss: 1.3976\n",
      "Epoch 4/100\n",
      "\u001b[1m3256/3256\u001b[0m \u001b[32m━━━━━━━━━━━━━━━━━━━━\u001b[0m\u001b[37m\u001b[0m \u001b[1m24s\u001b[0m 7ms/step - accuracy: 0.4184 - loss: 1.3579 - val_accuracy: 0.4046 - val_loss: 1.3957\n",
      "Epoch 5/100\n",
      "\u001b[1m3256/3256\u001b[0m \u001b[32m━━━━━━━━━━━━━━━━━━━━\u001b[0m\u001b[37m\u001b[0m \u001b[1m21s\u001b[0m 6ms/step - accuracy: 0.4185 - loss: 1.3593 - val_accuracy: 0.4041 - val_loss: 1.3980\n",
      "Epoch 6/100\n",
      "\u001b[1m3256/3256\u001b[0m \u001b[32m━━━━━━━━━━━━━━━━━━━━\u001b[0m\u001b[37m\u001b[0m \u001b[1m20s\u001b[0m 6ms/step - accuracy: 0.4207 - loss: 1.3543 - val_accuracy: 0.4055 - val_loss: 1.3950\n",
      "Epoch 7/100\n",
      "\u001b[1m3256/3256\u001b[0m \u001b[32m━━━━━━━━━━━━━━━━━━━━\u001b[0m\u001b[37m\u001b[0m \u001b[1m18s\u001b[0m 5ms/step - accuracy: 0.4200 - loss: 1.3526 - val_accuracy: 0.4067 - val_loss: 1.3954\n",
      "Epoch 8/100\n",
      "\u001b[1m3256/3256\u001b[0m \u001b[32m━━━━━━━━━━━━━━━━━━━━\u001b[0m\u001b[37m\u001b[0m \u001b[1m18s\u001b[0m 6ms/step - accuracy: 0.4191 - loss: 1.3522 - val_accuracy: 0.4043 - val_loss: 1.3951\n",
      "Epoch 9/100\n",
      "\u001b[1m3256/3256\u001b[0m \u001b[32m━━━━━━━━━━━━━━━━━━━━\u001b[0m\u001b[37m\u001b[0m \u001b[1m18s\u001b[0m 5ms/step - accuracy: 0.4214 - loss: 1.3507 - val_accuracy: 0.4055 - val_loss: 1.3958\n",
      "Epoch 10/100\n",
      "\u001b[1m3256/3256\u001b[0m \u001b[32m━━━━━━━━━━━━━━━━━━━━\u001b[0m\u001b[37m\u001b[0m \u001b[1m17s\u001b[0m 5ms/step - accuracy: 0.4241 - loss: 1.3482 - val_accuracy: 0.4075 - val_loss: 1.3966\n",
      "Epoch 11/100\n",
      "\u001b[1m3256/3256\u001b[0m \u001b[32m━━━━━━━━━━━━━━━━━━━━\u001b[0m\u001b[37m\u001b[0m \u001b[1m17s\u001b[0m 5ms/step - accuracy: 0.4222 - loss: 1.3527 - val_accuracy: 0.4068 - val_loss: 1.3950\n",
      "Epoch 12/100\n",
      "\u001b[1m3256/3256\u001b[0m \u001b[32m━━━━━━━━━━━━━━━━━━━━\u001b[0m\u001b[37m\u001b[0m \u001b[1m15s\u001b[0m 5ms/step - accuracy: 0.4248 - loss: 1.3448 - val_accuracy: 0.4088 - val_loss: 1.3947\n",
      "Epoch 13/100\n",
      "\u001b[1m3256/3256\u001b[0m \u001b[32m━━━━━━━━━━━━━━━━━━━━\u001b[0m\u001b[37m\u001b[0m \u001b[1m15s\u001b[0m 5ms/step - accuracy: 0.4254 - loss: 1.3429 - val_accuracy: 0.4061 - val_loss: 1.3971\n",
      "Epoch 14/100\n",
      "\u001b[1m3256/3256\u001b[0m \u001b[32m━━━━━━━━━━━━━━━━━━━━\u001b[0m\u001b[37m\u001b[0m \u001b[1m14s\u001b[0m 4ms/step - accuracy: 0.4238 - loss: 1.3478 - val_accuracy: 0.4074 - val_loss: 1.3933\n",
      "Epoch 15/100\n",
      "\u001b[1m3256/3256\u001b[0m \u001b[32m━━━━━━━━━━━━━━━━━━━━\u001b[0m\u001b[37m\u001b[0m \u001b[1m15s\u001b[0m 4ms/step - accuracy: 0.4239 - loss: 1.3500 - val_accuracy: 0.4057 - val_loss: 1.3957\n",
      "Epoch 16/100\n",
      "\u001b[1m3256/3256\u001b[0m \u001b[32m━━━━━━━━━━━━━━━━━━━━\u001b[0m\u001b[37m\u001b[0m \u001b[1m13s\u001b[0m 4ms/step - accuracy: 0.4241 - loss: 1.3465 - val_accuracy: 0.4070 - val_loss: 1.3949\n",
      "Epoch 17/100\n",
      "\u001b[1m3256/3256\u001b[0m \u001b[32m━━━━━━━━━━━━━━━━━━━━\u001b[0m\u001b[37m\u001b[0m \u001b[1m13s\u001b[0m 4ms/step - accuracy: 0.4259 - loss: 1.3460 - val_accuracy: 0.4083 - val_loss: 1.3938\n",
      "Epoch 18/100\n",
      "\u001b[1m3256/3256\u001b[0m \u001b[32m━━━━━━━━━━━━━━━━━━━━\u001b[0m\u001b[37m\u001b[0m \u001b[1m13s\u001b[0m 4ms/step - accuracy: 0.4273 - loss: 1.3438 - val_accuracy: 0.4062 - val_loss: 1.3957\n",
      "Epoch 19/100\n",
      "\u001b[1m3256/3256\u001b[0m \u001b[32m━━━━━━━━━━━━━━━━━━━━\u001b[0m\u001b[37m\u001b[0m \u001b[1m14s\u001b[0m 4ms/step - accuracy: 0.4268 - loss: 1.3445 - val_accuracy: 0.4070 - val_loss: 1.3956\n",
      "Epoch 20/100\n",
      "\u001b[1m3256/3256\u001b[0m \u001b[32m━━━━━━━━━━━━━━━━━━━━\u001b[0m\u001b[37m\u001b[0m \u001b[1m13s\u001b[0m 4ms/step - accuracy: 0.4287 - loss: 1.3445 - val_accuracy: 0.4097 - val_loss: 1.3937\n",
      "Epoch 21/100\n",
      "\u001b[1m3256/3256\u001b[0m \u001b[32m━━━━━━━━━━━━━━━━━━━━\u001b[0m\u001b[37m\u001b[0m \u001b[1m14s\u001b[0m 4ms/step - accuracy: 0.4292 - loss: 1.3434 - val_accuracy: 0.4070 - val_loss: 1.3955\n",
      "Epoch 22/100\n",
      "\u001b[1m3256/3256\u001b[0m \u001b[32m━━━━━━━━━━━━━━━━━━━━\u001b[0m\u001b[37m\u001b[0m \u001b[1m14s\u001b[0m 4ms/step - accuracy: 0.4240 - loss: 1.3422 - val_accuracy: 0.4101 - val_loss: 1.3926\n",
      "Epoch 23/100\n",
      "\u001b[1m3256/3256\u001b[0m \u001b[32m━━━━━━━━━━━━━━━━━━━━\u001b[0m\u001b[37m\u001b[0m \u001b[1m14s\u001b[0m 4ms/step - accuracy: 0.4295 - loss: 1.3385 - val_accuracy: 0.4126 - val_loss: 1.3924\n",
      "Epoch 24/100\n",
      "\u001b[1m3256/3256\u001b[0m \u001b[32m━━━━━━━━━━━━━━━━━━━━\u001b[0m\u001b[37m\u001b[0m \u001b[1m14s\u001b[0m 4ms/step - accuracy: 0.4282 - loss: 1.3388 - val_accuracy: 0.4103 - val_loss: 1.3921\n",
      "Epoch 25/100\n",
      "\u001b[1m3256/3256\u001b[0m \u001b[32m━━━━━━━━━━━━━━━━━━━━\u001b[0m\u001b[37m\u001b[0m \u001b[1m14s\u001b[0m 4ms/step - accuracy: 0.4274 - loss: 1.3377 - val_accuracy: 0.4132 - val_loss: 1.3896\n",
      "Epoch 26/100\n",
      "\u001b[1m3256/3256\u001b[0m \u001b[32m━━━━━━━━━━━━━━━━━━━━\u001b[0m\u001b[37m\u001b[0m \u001b[1m14s\u001b[0m 4ms/step - accuracy: 0.4272 - loss: 1.3362 - val_accuracy: 0.4116 - val_loss: 1.3901\n",
      "Epoch 27/100\n",
      "\u001b[1m3256/3256\u001b[0m \u001b[32m━━━━━━━━━━━━━━━━━━━━\u001b[0m\u001b[37m\u001b[0m \u001b[1m14s\u001b[0m 4ms/step - accuracy: 0.4324 - loss: 1.3349 - val_accuracy: 0.4102 - val_loss: 1.3944\n",
      "Epoch 28/100\n",
      "\u001b[1m3256/3256\u001b[0m \u001b[32m━━━━━━━━━━━━━━━━━━━━\u001b[0m\u001b[37m\u001b[0m \u001b[1m20s\u001b[0m 4ms/step - accuracy: 0.4283 - loss: 1.3399 - val_accuracy: 0.4117 - val_loss: 1.3918\n",
      "Epoch 29/100\n",
      "\u001b[1m3256/3256\u001b[0m \u001b[32m━━━━━━━━━━━━━━━━━━━━\u001b[0m\u001b[37m\u001b[0m \u001b[1m14s\u001b[0m 4ms/step - accuracy: 0.4293 - loss: 1.3377 - val_accuracy: 0.4116 - val_loss: 1.3926\n",
      "Epoch 30/100\n",
      "\u001b[1m3256/3256\u001b[0m \u001b[32m━━━━━━━━━━━━━━━━━━━━\u001b[0m\u001b[37m\u001b[0m \u001b[1m14s\u001b[0m 4ms/step - accuracy: 0.4320 - loss: 1.3370 - val_accuracy: 0.4111 - val_loss: 1.3926\n",
      "Epoch 31/100\n",
      "\u001b[1m3256/3256\u001b[0m \u001b[32m━━━━━━━━━━━━━━━━━━━━\u001b[0m\u001b[37m\u001b[0m \u001b[1m14s\u001b[0m 4ms/step - accuracy: 0.4300 - loss: 1.3415 - val_accuracy: 0.4111 - val_loss: 1.3923\n",
      "Epoch 32/100\n",
      "\u001b[1m3256/3256\u001b[0m \u001b[32m━━━━━━━━━━━━━━━━━━━━\u001b[0m\u001b[37m\u001b[0m \u001b[1m15s\u001b[0m 4ms/step - accuracy: 0.4300 - loss: 1.3312 - val_accuracy: 0.4097 - val_loss: 1.3907\n",
      "Epoch 33/100\n",
      "\u001b[1m3256/3256\u001b[0m \u001b[32m━━━━━━━━━━━━━━━━━━━━\u001b[0m\u001b[37m\u001b[0m \u001b[1m16s\u001b[0m 5ms/step - accuracy: 0.4311 - loss: 1.3332 - val_accuracy: 0.4098 - val_loss: 1.3906\n",
      "Epoch 34/100\n",
      "\u001b[1m3256/3256\u001b[0m \u001b[32m━━━━━━━━━━━━━━━━━━━━\u001b[0m\u001b[37m\u001b[0m \u001b[1m15s\u001b[0m 5ms/step - accuracy: 0.4313 - loss: 1.3370 - val_accuracy: 0.4101 - val_loss: 1.3926\n",
      "Epoch 35/100\n",
      "\u001b[1m3256/3256\u001b[0m \u001b[32m━━━━━━━━━━━━━━━━━━━━\u001b[0m\u001b[37m\u001b[0m \u001b[1m15s\u001b[0m 5ms/step - accuracy: 0.4308 - loss: 1.3342 - val_accuracy: 0.4090 - val_loss: 1.3932\n",
      "Epoch 36/100\n",
      "\u001b[1m3256/3256\u001b[0m \u001b[32m━━━━━━━━━━━━━━━━━━━━\u001b[0m\u001b[37m\u001b[0m \u001b[1m14s\u001b[0m 4ms/step - accuracy: 0.4307 - loss: 1.3330 - val_accuracy: 0.4118 - val_loss: 1.3924\n",
      "Epoch 37/100\n",
      "\u001b[1m3256/3256\u001b[0m \u001b[32m━━━━━━━━━━━━━━━━━━━━\u001b[0m\u001b[37m\u001b[0m \u001b[1m14s\u001b[0m 4ms/step - accuracy: 0.4340 - loss: 1.3298 - val_accuracy: 0.4106 - val_loss: 1.3930\n",
      "Epoch 38/100\n",
      "\u001b[1m3256/3256\u001b[0m \u001b[32m━━━━━━━━━━━━━━━━━━━━\u001b[0m\u001b[37m\u001b[0m \u001b[1m15s\u001b[0m 4ms/step - accuracy: 0.4303 - loss: 1.3348 - val_accuracy: 0.4095 - val_loss: 1.3976\n",
      "Epoch 39/100\n",
      "\u001b[1m3256/3256\u001b[0m \u001b[32m━━━━━━━━━━━━━━━━━━━━\u001b[0m\u001b[37m\u001b[0m \u001b[1m14s\u001b[0m 4ms/step - accuracy: 0.4331 - loss: 1.3329 - val_accuracy: 0.4094 - val_loss: 1.3950\n",
      "Epoch 40/100\n",
      "\u001b[1m3256/3256\u001b[0m \u001b[32m━━━━━━━━━━━━━━━━━━━━\u001b[0m\u001b[37m\u001b[0m \u001b[1m15s\u001b[0m 4ms/step - accuracy: 0.4372 - loss: 1.3268 - val_accuracy: 0.4116 - val_loss: 1.3922\n",
      "Epoch 41/100\n",
      "\u001b[1m3256/3256\u001b[0m \u001b[32m━━━━━━━━━━━━━━━━━━━━\u001b[0m\u001b[37m\u001b[0m \u001b[1m15s\u001b[0m 4ms/step - accuracy: 0.4337 - loss: 1.3269 - val_accuracy: 0.4104 - val_loss: 1.3975\n",
      "Epoch 42/100\n",
      "\u001b[1m3256/3256\u001b[0m \u001b[32m━━━━━━━━━━━━━━━━━━━━\u001b[0m\u001b[37m\u001b[0m \u001b[1m16s\u001b[0m 5ms/step - accuracy: 0.4372 - loss: 1.3278 - val_accuracy: 0.4138 - val_loss: 1.3889\n",
      "Epoch 43/100\n",
      "\u001b[1m3256/3256\u001b[0m \u001b[32m━━━━━━━━━━━━━━━━━━━━\u001b[0m\u001b[37m\u001b[0m \u001b[1m14s\u001b[0m 4ms/step - accuracy: 0.4328 - loss: 1.3286 - val_accuracy: 0.4115 - val_loss: 1.3926\n",
      "Epoch 44/100\n",
      "\u001b[1m3256/3256\u001b[0m \u001b[32m━━━━━━━━━━━━━━━━━━━━\u001b[0m\u001b[37m\u001b[0m \u001b[1m13s\u001b[0m 4ms/step - accuracy: 0.4333 - loss: 1.3271 - val_accuracy: 0.4141 - val_loss: 1.3887\n",
      "Epoch 45/100\n",
      "\u001b[1m3256/3256\u001b[0m \u001b[32m━━━━━━━━━━━━━━━━━━━━\u001b[0m\u001b[37m\u001b[0m \u001b[1m15s\u001b[0m 5ms/step - accuracy: 0.4372 - loss: 1.3249 - val_accuracy: 0.4105 - val_loss: 1.3937\n",
      "Epoch 46/100\n",
      "\u001b[1m3256/3256\u001b[0m \u001b[32m━━━━━━━━━━━━━━━━━━━━\u001b[0m\u001b[37m\u001b[0m \u001b[1m22s\u001b[0m 7ms/step - accuracy: 0.4356 - loss: 1.3270 - val_accuracy: 0.4118 - val_loss: 1.3944\n",
      "Epoch 47/100\n",
      "\u001b[1m3256/3256\u001b[0m \u001b[32m━━━━━━━━━━━━━━━━━━━━\u001b[0m\u001b[37m\u001b[0m \u001b[1m15s\u001b[0m 5ms/step - accuracy: 0.4329 - loss: 1.3298 - val_accuracy: 0.4145 - val_loss: 1.3910\n",
      "Epoch 48/100\n",
      "\u001b[1m3256/3256\u001b[0m \u001b[32m━━━━━━━━━━━━━━━━━━━━\u001b[0m\u001b[37m\u001b[0m \u001b[1m15s\u001b[0m 5ms/step - accuracy: 0.4365 - loss: 1.3255 - val_accuracy: 0.4153 - val_loss: 1.3880\n",
      "Epoch 49/100\n",
      "\u001b[1m3256/3256\u001b[0m \u001b[32m━━━━━━━━━━━━━━━━━━━━\u001b[0m\u001b[37m\u001b[0m \u001b[1m15s\u001b[0m 5ms/step - accuracy: 0.4337 - loss: 1.3280 - val_accuracy: 0.4138 - val_loss: 1.3892\n",
      "Epoch 50/100\n",
      "\u001b[1m3256/3256\u001b[0m \u001b[32m━━━━━━━━━━━━━━━━━━━━\u001b[0m\u001b[37m\u001b[0m \u001b[1m14s\u001b[0m 4ms/step - accuracy: 0.4348 - loss: 1.3295 - val_accuracy: 0.4131 - val_loss: 1.3922\n",
      "Epoch 51/100\n",
      "\u001b[1m3256/3256\u001b[0m \u001b[32m━━━━━━━━━━━━━━━━━━━━\u001b[0m\u001b[37m\u001b[0m \u001b[1m14s\u001b[0m 4ms/step - accuracy: 0.4401 - loss: 1.3222 - val_accuracy: 0.4130 - val_loss: 1.3927\n",
      "Epoch 52/100\n",
      "\u001b[1m3256/3256\u001b[0m \u001b[32m━━━━━━━━━━━━━━━━━━━━\u001b[0m\u001b[37m\u001b[0m \u001b[1m14s\u001b[0m 4ms/step - accuracy: 0.4372 - loss: 1.3253 - val_accuracy: 0.4102 - val_loss: 1.3916\n",
      "Epoch 53/100\n",
      "\u001b[1m3256/3256\u001b[0m \u001b[32m━━━━━━━━━━━━━━━━━━━━\u001b[0m\u001b[37m\u001b[0m \u001b[1m14s\u001b[0m 4ms/step - accuracy: 0.4340 - loss: 1.3245 - val_accuracy: 0.4077 - val_loss: 1.3967\n",
      "Epoch 54/100\n",
      "\u001b[1m3256/3256\u001b[0m \u001b[32m━━━━━━━━━━━━━━━━━━━━\u001b[0m\u001b[37m\u001b[0m \u001b[1m14s\u001b[0m 4ms/step - accuracy: 0.4382 - loss: 1.3239 - val_accuracy: 0.4134 - val_loss: 1.3906\n",
      "Epoch 55/100\n",
      "\u001b[1m3256/3256\u001b[0m \u001b[32m━━━━━━━━━━━━━━━━━━━━\u001b[0m\u001b[37m\u001b[0m \u001b[1m14s\u001b[0m 4ms/step - accuracy: 0.4389 - loss: 1.3208 - val_accuracy: 0.4132 - val_loss: 1.3903\n",
      "Epoch 56/100\n",
      "\u001b[1m3256/3256\u001b[0m \u001b[32m━━━━━━━━━━━━━━━━━━━━\u001b[0m\u001b[37m\u001b[0m \u001b[1m17s\u001b[0m 5ms/step - accuracy: 0.4360 - loss: 1.3243 - val_accuracy: 0.4102 - val_loss: 1.3954\n",
      "Epoch 57/100\n",
      "\u001b[1m3256/3256\u001b[0m \u001b[32m━━━━━━━━━━━━━━━━━━━━\u001b[0m\u001b[37m\u001b[0m \u001b[1m15s\u001b[0m 4ms/step - accuracy: 0.4362 - loss: 1.3208 - val_accuracy: 0.4114 - val_loss: 1.3948\n",
      "Epoch 58/100\n",
      "\u001b[1m3256/3256\u001b[0m \u001b[32m━━━━━━━━━━━━━━━━━━━━\u001b[0m\u001b[37m\u001b[0m \u001b[1m15s\u001b[0m 4ms/step - accuracy: 0.4343 - loss: 1.3226 - val_accuracy: 0.4165 - val_loss: 1.3899\n",
      "Epoch 59/100\n",
      "\u001b[1m3256/3256\u001b[0m \u001b[32m━━━━━━━━━━━━━━━━━━━━\u001b[0m\u001b[37m\u001b[0m \u001b[1m14s\u001b[0m 4ms/step - accuracy: 0.4373 - loss: 1.3197 - val_accuracy: 0.4132 - val_loss: 1.3942\n",
      "Epoch 60/100\n",
      "\u001b[1m3256/3256\u001b[0m \u001b[32m━━━━━━━━━━━━━━━━━━━━\u001b[0m\u001b[37m\u001b[0m \u001b[1m14s\u001b[0m 4ms/step - accuracy: 0.4395 - loss: 1.3187 - val_accuracy: 0.4133 - val_loss: 1.3928\n",
      "Epoch 61/100\n",
      "\u001b[1m3256/3256\u001b[0m \u001b[32m━━━━━━━━━━━━━━━━━━━━\u001b[0m\u001b[37m\u001b[0m \u001b[1m14s\u001b[0m 4ms/step - accuracy: 0.4357 - loss: 1.3237 - val_accuracy: 0.4132 - val_loss: 1.3916\n",
      "Epoch 62/100\n",
      "\u001b[1m3256/3256\u001b[0m \u001b[32m━━━━━━━━━━━━━━━━━━━━\u001b[0m\u001b[37m\u001b[0m \u001b[1m14s\u001b[0m 4ms/step - accuracy: 0.4383 - loss: 1.3167 - val_accuracy: 0.4175 - val_loss: 1.3889\n",
      "Epoch 63/100\n",
      "\u001b[1m3256/3256\u001b[0m \u001b[32m━━━━━━━━━━━━━━━━━━━━\u001b[0m\u001b[37m\u001b[0m \u001b[1m14s\u001b[0m 4ms/step - accuracy: 0.4374 - loss: 1.3211 - val_accuracy: 0.4139 - val_loss: 1.3921\n",
      "Epoch 64/100\n",
      "\u001b[1m3256/3256\u001b[0m \u001b[32m━━━━━━━━━━━━━━━━━━━━\u001b[0m\u001b[37m\u001b[0m \u001b[1m14s\u001b[0m 4ms/step - accuracy: 0.4402 - loss: 1.3168 - val_accuracy: 0.4133 - val_loss: 1.3917\n",
      "Epoch 65/100\n",
      "\u001b[1m3256/3256\u001b[0m \u001b[32m━━━━━━━━━━━━━━━━━━━━\u001b[0m\u001b[37m\u001b[0m \u001b[1m14s\u001b[0m 4ms/step - accuracy: 0.4392 - loss: 1.3188 - val_accuracy: 0.4152 - val_loss: 1.3906\n",
      "Epoch 66/100\n",
      "\u001b[1m3256/3256\u001b[0m \u001b[32m━━━━━━━━━━━━━━━━━━━━\u001b[0m\u001b[37m\u001b[0m \u001b[1m14s\u001b[0m 4ms/step - accuracy: 0.4419 - loss: 1.3165 - val_accuracy: 0.4132 - val_loss: 1.3942\n",
      "Epoch 67/100\n",
      "\u001b[1m3256/3256\u001b[0m \u001b[32m━━━━━━━━━━━━━━━━━━━━\u001b[0m\u001b[37m\u001b[0m \u001b[1m14s\u001b[0m 4ms/step - accuracy: 0.4432 - loss: 1.3144 - val_accuracy: 0.4136 - val_loss: 1.3914\n",
      "Epoch 68/100\n",
      "\u001b[1m3256/3256\u001b[0m \u001b[32m━━━━━━━━━━━━━━━━━━━━\u001b[0m\u001b[37m\u001b[0m \u001b[1m14s\u001b[0m 4ms/step - accuracy: 0.4383 - loss: 1.3171 - val_accuracy: 0.4142 - val_loss: 1.3938\n",
      "Epoch 69/100\n",
      "\u001b[1m3256/3256\u001b[0m \u001b[32m━━━━━━━━━━━━━━━━━━━━\u001b[0m\u001b[37m\u001b[0m \u001b[1m14s\u001b[0m 4ms/step - accuracy: 0.4407 - loss: 1.3158 - val_accuracy: 0.4152 - val_loss: 1.3934\n",
      "Epoch 70/100\n",
      "\u001b[1m3256/3256\u001b[0m \u001b[32m━━━━━━━━━━━━━━━━━━━━\u001b[0m\u001b[37m\u001b[0m \u001b[1m14s\u001b[0m 4ms/step - accuracy: 0.4408 - loss: 1.3189 - val_accuracy: 0.4184 - val_loss: 1.3878\n",
      "Epoch 71/100\n",
      "\u001b[1m3256/3256\u001b[0m \u001b[32m━━━━━━━━━━━━━━━━━━━━\u001b[0m\u001b[37m\u001b[0m \u001b[1m15s\u001b[0m 4ms/step - accuracy: 0.4385 - loss: 1.3162 - val_accuracy: 0.4133 - val_loss: 1.3919\n",
      "Epoch 72/100\n",
      "\u001b[1m3256/3256\u001b[0m \u001b[32m━━━━━━━━━━━━━━━━━━━━\u001b[0m\u001b[37m\u001b[0m \u001b[1m14s\u001b[0m 4ms/step - accuracy: 0.4399 - loss: 1.3171 - val_accuracy: 0.4122 - val_loss: 1.3913\n",
      "Epoch 73/100\n",
      "\u001b[1m3256/3256\u001b[0m \u001b[32m━━━━━━━━━━━━━━━━━━━━\u001b[0m\u001b[37m\u001b[0m \u001b[1m15s\u001b[0m 4ms/step - accuracy: 0.4363 - loss: 1.3211 - val_accuracy: 0.4172 - val_loss: 1.3925\n",
      "Epoch 74/100\n",
      "\u001b[1m3256/3256\u001b[0m \u001b[32m━━━━━━━━━━━━━━━━━━━━\u001b[0m\u001b[37m\u001b[0m \u001b[1m15s\u001b[0m 4ms/step - accuracy: 0.4395 - loss: 1.3156 - val_accuracy: 0.4161 - val_loss: 1.3897\n",
      "Epoch 75/100\n",
      "\u001b[1m3256/3256\u001b[0m \u001b[32m━━━━━━━━━━━━━━━━━━━━\u001b[0m\u001b[37m\u001b[0m \u001b[1m16s\u001b[0m 5ms/step - accuracy: 0.4415 - loss: 1.3108 - val_accuracy: 0.4183 - val_loss: 1.3913\n",
      "Epoch 76/100\n",
      "\u001b[1m3256/3256\u001b[0m \u001b[32m━━━━━━━━━━━━━━━━━━━━\u001b[0m\u001b[37m\u001b[0m \u001b[1m16s\u001b[0m 5ms/step - accuracy: 0.4420 - loss: 1.3151 - val_accuracy: 0.4136 - val_loss: 1.3932\n",
      "Epoch 77/100\n",
      "\u001b[1m3256/3256\u001b[0m \u001b[32m━━━━━━━━━━━━━━━━━━━━\u001b[0m\u001b[37m\u001b[0m \u001b[1m15s\u001b[0m 4ms/step - accuracy: 0.4415 - loss: 1.3167 - val_accuracy: 0.4164 - val_loss: 1.3939\n",
      "Epoch 78/100\n",
      "\u001b[1m3256/3256\u001b[0m \u001b[32m━━━━━━━━━━━━━━━━━━━━\u001b[0m\u001b[37m\u001b[0m \u001b[1m14s\u001b[0m 4ms/step - accuracy: 0.4422 - loss: 1.3144 - val_accuracy: 0.4133 - val_loss: 1.3936\n",
      "Epoch 79/100\n",
      "\u001b[1m3256/3256\u001b[0m \u001b[32m━━━━━━━━━━━━━━━━━━━━\u001b[0m\u001b[37m\u001b[0m \u001b[1m15s\u001b[0m 4ms/step - accuracy: 0.4438 - loss: 1.3128 - val_accuracy: 0.4161 - val_loss: 1.3917\n",
      "Epoch 80/100\n",
      "\u001b[1m3256/3256\u001b[0m \u001b[32m━━━━━━━━━━━━━━━━━━━━\u001b[0m\u001b[37m\u001b[0m \u001b[1m14s\u001b[0m 4ms/step - accuracy: 0.4424 - loss: 1.3112 - val_accuracy: 0.4145 - val_loss: 1.3950\n",
      "Epoch 81/100\n",
      "\u001b[1m3256/3256\u001b[0m \u001b[32m━━━━━━━━━━━━━━━━━━━━\u001b[0m\u001b[37m\u001b[0m \u001b[1m14s\u001b[0m 4ms/step - accuracy: 0.4417 - loss: 1.3110 - val_accuracy: 0.4157 - val_loss: 1.3924\n",
      "Epoch 82/100\n",
      "\u001b[1m3256/3256\u001b[0m \u001b[32m━━━━━━━━━━━━━━━━━━━━\u001b[0m\u001b[37m\u001b[0m \u001b[1m14s\u001b[0m 4ms/step - accuracy: 0.4421 - loss: 1.3159 - val_accuracy: 0.4125 - val_loss: 1.3933\n",
      "Epoch 83/100\n",
      "\u001b[1m3256/3256\u001b[0m \u001b[32m━━━━━━━━━━━━━━━━━━━━\u001b[0m\u001b[37m\u001b[0m \u001b[1m14s\u001b[0m 4ms/step - accuracy: 0.4391 - loss: 1.3159 - val_accuracy: 0.4171 - val_loss: 1.3911\n",
      "Epoch 84/100\n",
      "\u001b[1m3256/3256\u001b[0m \u001b[32m━━━━━━━━━━━━━━━━━━━━\u001b[0m\u001b[37m\u001b[0m \u001b[1m14s\u001b[0m 4ms/step - accuracy: 0.4430 - loss: 1.3111 - val_accuracy: 0.4157 - val_loss: 1.3914\n",
      "Epoch 85/100\n",
      "\u001b[1m3256/3256\u001b[0m \u001b[32m━━━━━━━━━━━━━━━━━━━━\u001b[0m\u001b[37m\u001b[0m \u001b[1m14s\u001b[0m 4ms/step - accuracy: 0.4446 - loss: 1.3118 - val_accuracy: 0.4153 - val_loss: 1.3950\n",
      "Epoch 86/100\n",
      "\u001b[1m3256/3256\u001b[0m \u001b[32m━━━━━━━━━━━━━━━━━━━━\u001b[0m\u001b[37m\u001b[0m \u001b[1m14s\u001b[0m 4ms/step - accuracy: 0.4457 - loss: 1.3063 - val_accuracy: 0.4138 - val_loss: 1.3955\n",
      "Epoch 87/100\n",
      "\u001b[1m3256/3256\u001b[0m \u001b[32m━━━━━━━━━━━━━━━━━━━━\u001b[0m\u001b[37m\u001b[0m \u001b[1m14s\u001b[0m 4ms/step - accuracy: 0.4438 - loss: 1.3083 - val_accuracy: 0.4156 - val_loss: 1.3933\n",
      "Epoch 88/100\n",
      "\u001b[1m3256/3256\u001b[0m \u001b[32m━━━━━━━━━━━━━━━━━━━━\u001b[0m\u001b[37m\u001b[0m \u001b[1m14s\u001b[0m 4ms/step - accuracy: 0.4409 - loss: 1.3111 - val_accuracy: 0.4168 - val_loss: 1.3924\n",
      "Epoch 89/100\n",
      "\u001b[1m3256/3256\u001b[0m \u001b[32m━━━━━━━━━━━━━━━━━━━━\u001b[0m\u001b[37m\u001b[0m \u001b[1m15s\u001b[0m 5ms/step - accuracy: 0.4412 - loss: 1.3105 - val_accuracy: 0.4145 - val_loss: 1.3943\n",
      "Epoch 90/100\n",
      "\u001b[1m3256/3256\u001b[0m \u001b[32m━━━━━━━━━━━━━━━━━━━━\u001b[0m\u001b[37m\u001b[0m \u001b[1m15s\u001b[0m 5ms/step - accuracy: 0.4418 - loss: 1.3144 - val_accuracy: 0.4123 - val_loss: 1.3938\n",
      "Epoch 91/100\n",
      "\u001b[1m3256/3256\u001b[0m \u001b[32m━━━━━━━━━━━━━━━━━━━━\u001b[0m\u001b[37m\u001b[0m \u001b[1m15s\u001b[0m 5ms/step - accuracy: 0.4428 - loss: 1.3131 - val_accuracy: 0.4126 - val_loss: 1.3943\n",
      "Epoch 92/100\n",
      "\u001b[1m3256/3256\u001b[0m \u001b[32m━━━━━━━━━━━━━━━━━━━━\u001b[0m\u001b[37m\u001b[0m \u001b[1m14s\u001b[0m 4ms/step - accuracy: 0.4451 - loss: 1.3098 - val_accuracy: 0.4143 - val_loss: 1.3927\n",
      "Epoch 93/100\n",
      "\u001b[1m3256/3256\u001b[0m \u001b[32m━━━━━━━━━━━━━━━━━━━━\u001b[0m\u001b[37m\u001b[0m \u001b[1m14s\u001b[0m 4ms/step - accuracy: 0.4428 - loss: 1.3083 - val_accuracy: 0.4166 - val_loss: 1.3919\n",
      "Epoch 94/100\n",
      "\u001b[1m3256/3256\u001b[0m \u001b[32m━━━━━━━━━━━━━━━━━━━━\u001b[0m\u001b[37m\u001b[0m \u001b[1m14s\u001b[0m 4ms/step - accuracy: 0.4449 - loss: 1.3068 - val_accuracy: 0.4144 - val_loss: 1.3927\n",
      "Epoch 95/100\n",
      "\u001b[1m3256/3256\u001b[0m \u001b[32m━━━━━━━━━━━━━━━━━━━━\u001b[0m\u001b[37m\u001b[0m \u001b[1m14s\u001b[0m 4ms/step - accuracy: 0.4414 - loss: 1.3095 - val_accuracy: 0.4144 - val_loss: 1.3953\n",
      "Epoch 96/100\n",
      "\u001b[1m3256/3256\u001b[0m \u001b[32m━━━━━━━━━━━━━━━━━━━━\u001b[0m\u001b[37m\u001b[0m \u001b[1m14s\u001b[0m 4ms/step - accuracy: 0.4442 - loss: 1.3097 - val_accuracy: 0.4162 - val_loss: 1.3916\n",
      "Epoch 97/100\n",
      "\u001b[1m3256/3256\u001b[0m \u001b[32m━━━━━━━━━━━━━━━━━━━━\u001b[0m\u001b[37m\u001b[0m \u001b[1m14s\u001b[0m 4ms/step - accuracy: 0.4480 - loss: 1.3057 - val_accuracy: 0.4144 - val_loss: 1.3955\n",
      "Epoch 98/100\n",
      "\u001b[1m3256/3256\u001b[0m \u001b[32m━━━━━━━━━━━━━━━━━━━━\u001b[0m\u001b[37m\u001b[0m \u001b[1m14s\u001b[0m 4ms/step - accuracy: 0.4432 - loss: 1.3092 - val_accuracy: 0.4179 - val_loss: 1.3909\n",
      "Epoch 99/100\n",
      "\u001b[1m3256/3256\u001b[0m \u001b[32m━━━━━━━━━━━━━━━━━━━━\u001b[0m\u001b[37m\u001b[0m \u001b[1m14s\u001b[0m 4ms/step - accuracy: 0.4434 - loss: 1.3101 - val_accuracy: 0.4163 - val_loss: 1.3928\n",
      "Epoch 100/100\n",
      "\u001b[1m3256/3256\u001b[0m \u001b[32m━━━━━━━━━━━━━━━━━━━━\u001b[0m\u001b[37m\u001b[0m \u001b[1m14s\u001b[0m 4ms/step - accuracy: 0.4428 - loss: 1.3085 - val_accuracy: 0.4153 - val_loss: 1.3910\n"
     ]
    }
   ],
   "source": [
    "model.compile(loss='categorical_crossentropy', optimizer='adam', metrics=['accuracy'])\n",
    "history = model.fit(x_train, y_train, epochs = 100, validation_data = (x_test, y_test))"
   ]
  },
  {
   "cell_type": "code",
   "execution_count": 39,
   "metadata": {
    "id": "pmdp4YBYXDIZ"
   },
   "outputs": [
    {
     "data": {
      "text/plain": [
       "<Axes: >"
      ]
     },
     "execution_count": 39,
     "metadata": {},
     "output_type": "execute_result"
    },
    {
     "data": {
      "image/png": "[encoded data removed]",
      "text/plain": [
       "<Figure size 640x480 with 1 Axes>"
      ]
     },
     "metadata": {},
     "output_type": "display_data"
    }
   ],
   "source": [
    "pd.DataFrame(history.history).plot()"
   ]
  },
  {
   "cell_type": "code",
   "execution_count": 40,
   "metadata": {
    "id": "RlygX9ohXDzw"
   },
   "outputs": [
    {
     "name": "stdout",
     "output_type": "stream",
     "text": [
      "\u001b[1m1396/1396\u001b[0m \u001b[32m━━━━━━━━━━━━━━━━━━━━\u001b[0m\u001b[37m\u001b[0m \u001b[1m4s\u001b[0m 3ms/step\n"
     ]
    },
    {
     "data": {
      "text/plain": [
       "(44654, 5)"
      ]
     },
     "execution_count": 40,
     "metadata": {},
     "output_type": "execute_result"
    }
   ],
   "source": [
    "from sklearn.metrics import ConfusionMatrixDisplay\n",
    "y_test_predict = model.predict(x_test)\n",
    "y_test_predict.shape"
   ]
  },
  {
   "cell_type": "code",
   "execution_count": null,
   "metadata": {},
   "outputs": [],
   "source": [
    "y_true = np.argmax(y_test, axis=-1)         \n",
    "y_pred = np.argmax(y_test_predict, axis=-1) "
   ]
  },
  {
   "cell_type": "code",
   "execution_count": 42,
   "metadata": {
    "id": "R3ytIrT3Evqp"
   },
   "outputs": [
    {
     "data": {
      "text/plain": [
       "<sklearn.metrics._plot.confusion_matrix.ConfusionMatrixDisplay at 0x2b4944c99a0>"
      ]
     },
     "execution_count": 42,
     "metadata": {},
     "output_type": "execute_result"
    },
    {
     "data": {
      "image/png": "[encoded data removed]",
      "text/plain": [
       "<Figure size 640x480 with 2 Axes>"
      ]
     },
     "metadata": {},
     "output_type": "display_data"
    }
   ],
   "source": [
    "ConfusionMatrixDisplay.from_predictions(np.argmax(y_test, axis = -1),\n",
    "                                       np.argmax(y_test_predict, axis = -1),\n",
    "                                       normalize = 'true',\n",
    "                                       values_format = '.0%')"
   ]
  },
  {
   "cell_type": "code",
   "execution_count": 49,
   "metadata": {},
   "outputs": [
    {
     "name": "stdout",
     "output_type": "stream",
     "text": [
      "Accuracy: 0.415326734447082\n",
      "F1 Score: 0.41250298576010663\n",
      "Recall: 0.415326734447082\n",
      "Precision: 0.4127013142088789\n"
     ]
    }
   ],
   "source": [
    "from sklearn.metrics import accuracy_score, f1_score, recall_score, precision_score\n",
    "import numpy as np\n",
    "\n",
    "y_test_labels = np.argmax(y_test, axis=-1)\n",
    "y_test_predict_labels = np.argmax(y_test_predict, axis=-1)\n",
    "\n",
    "accuracy = accuracy_score(y_test_labels, y_test_predict_labels)\n",
    "f1 = f1_score(y_test_labels, y_test_predict_labels, average='weighted') \n",
    "recall = recall_score(y_test_labels, y_test_predict_labels, average='weighted')\n",
    "precision = precision_score(y_test_labels, y_test_predict_labels, average='weighted')\n",
    "\n",
    "print(\"Accuracy:\", accuracy)\n",
    "print(\"F1 Score:\", f1)\n",
    "print(\"Recall:\", recall)\n",
    "print(\"Precision:\", precision)"
   ]
  },
  {
   "cell_type": "markdown",
   "metadata": {},
   "source": [
    "### Question 1: How effective is the CNN at performing multi-label classification on Amazon reviews?\n",
    "The CNN was generally an inaccurate model. Overall, it yielded 41.5% accuracy on our test set, but its accuracy varied by classification category as shown by the confusion matrix above. On more extreme scores (1-star and 5-star reviews), it achieved 54% and 47% accuracy respectively. On more moderate scores (2,3, and 4 star ratings) it achieved only 34-37% accuracy. To achieve a highly accurate model, this model would have to be trained for a very long time (potentially over a day), but that would risk overfitting to the data and creating a model that is not very generalizable."
   ]
  },
  {
   "cell_type": "markdown",
   "metadata": {},
   "source": [
    "### Question2: What preprocessing steps improve CNN performance?\n",
    "1. Changing `max_df` and `min_df` in our TFIDF Vectorization of each text was important in further distinguishing the texts. We also removed all stop words in this process.\n",
    "2. We also removed many rows from the dataset in order to ensure that scores had an even distribution in the dataset. Above, we removed rows until all scores appeared at a maximum of roughly 30,000 times because that is the amount of times our least common score appeared. Therefore, we ensured that all scores appeared at an equal frequency such that the model would not learn to always classify a comment as the most common rating to achieve higher accuracy."
   ]
  },
  {
   "cell_type": "markdown",
   "metadata": {},
   "source": [
    "### Question 3: . Do different CNN kernel sizes and pooling methods enhance pattern recognition in product categories?\n",
    "Yes, smaller kernel sizes are typically used to capture more complex and smaller details in the training data, while larger kernel sizes may be used to capture broader patterns in the data. In this case, we used a smaller kernel size of 3 in order to better capture the connection between words and sentence structure. This makes sense because sentences may have a sarcastic tone, indicating poorer reviews, or use more complicated word choices that alter the meaning the of the sentence. For our pooling method, we used Max Pooling. Max Pooling can allow for recognition of more dominant features in the data, which in our case is stronger word choice, which we believe to be the best indicators of the sentimenet of the review."
   ]
  },
  {
   "cell_type": "markdown",
   "metadata": {},
   "source": [
    "### Question 4: Which categories are challenging to classify, and why?\n",
    "The more moderate scores, 2-4 star ratings, were the most challenging to classify and had the lowest accuracy scores. This is because they likely do use less extreme words that allow the model to more easily classify the review as either good or bad. In other cases, these reviews may mention something terrible about the business, but then move on to concede the business also did something great, which could confuse the model."
   ]
  },
  {
   "cell_type": "markdown",
   "metadata": {},
   "source": [
    "### Question 5: How does the CNN compare to baseline models like Logistic Regression for multi-label classification?\n",
    "CNN is much easier to use because it can more easily extract features as it fits to the training data, while a logistic regression model works better on lower-dimension data in which it can determine *linear* relationships. For this reason, CNNs are typically more accurate on high-dimensional data such as pictures and NLP tasks because it can better capture high-level complex patterns, while logistic regression models may be better used for small, structured datasets with linear patterns."
   ]
  }
 ],
 "metadata": {
  "colab": {
   "provenance": []
  },
  "kernelspec": {
   "display_name": "wp_nlp",
   "language": "python",
   "name": "python3"
  },
  "language_info": {
   "codemirror_mode": {
    "name": "ipython",
    "version": 3
   },
   "file_extension": ".py",
   "mimetype": "text/x-python",
   "name": "python",
   "nbconvert_exporter": "python",
   "pygments_lexer": "ipython3",
   "version": "3.12.4"
  }
 },
 "nbformat": 4,
 "nbformat_minor": 0
}
